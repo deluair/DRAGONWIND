{
 "cells": [
  {
   "cell_type": "markdown",
   "metadata": {},
   "source": [
    "# DRAGONWIND Basic Simulation Example\n",
    "\n",
    "This notebook demonstrates how to run a basic simulation using the DRAGONWIND platform and analyze the results.\n",
    "\n",
    "## Setup\n",
    "\n",
    "First, let's import the necessary modules and configure our environment."
   ]
  },
  {
   "cell_type": "code",
   "execution_count": null,
   "metadata": {},
   "source": [
    "import sys\n",
    "import os\n",
    "from pathlib import Path\n",
    "import pandas as pd\n",
    "import numpy as np\n",
    "import matplotlib.pyplot as plt\n",
    "import seaborn as sns\n",
    "\n",
    "# Add the project root to the Python path\n",
    "project_root = Path.cwd().parent.parent\n",
    "if str(project_root) not in sys.path:\n",
    "    sys.path.insert(0, str(project_root))\n",
    "\n",
    "# Import DRAGONWIND modules\n",
    "from src.config.loader import load_config\n",
    "from src.core.simulation_engine import SimulationEngine\n",
    "from src.analytics.plotter import create_figure\n",
    "\n",
    "# Set plot style\n",
    "plt.style.use('seaborn-v0_8-whitegrid')\n",
    "plt.rcParams['figure.figsize'] = (12, 8)\n",
    "plt.rcParams['font.size'] = 12"
   ]
  },
  {
   "cell_type": "markdown",
   "metadata": {},
   "source": [
    "## Load Configuration\n",
    "\n",
    "Next, let's load the default configuration from the YAML file."
   ]
  },
  {
   "cell_type": "code",
   "execution_count": null,
   "metadata": {},
   "source": [
    "# Load the default configuration\n",
    "config = load_config()\n",
    "\n",
    "# Preview some key configuration settings\n",
    "print(\"Renewable Energy Configuration:\")\n",
    "print(f\"- Initial Solar Capacity: {config['renewable']['initial_capacity']['solar']} GW\")\n",
    "print(f\"- Initial Wind Capacity: {config['renewable']['initial_capacity']['wind']} GW\")\n",
    "print(f\"- Solar Growth Rate: {config['renewable']['growth_rates']['solar']} GW/year\")\n",
    "print(f\"- Wind Growth Rate: {config['renewable']['growth_rates']['wind']} GW/year\")\n",
    "\n",
    "print(\"\\nGrid Configuration:\")\n",
    "print(f\"- Initial Grid Capacity: {config['grid']['initial_capacity']} GW\")\n",
    "print(f\"- Grid Expansion Rate: {config['grid']['expansion_rate']} GW/year\")"
   ]
  },
  {
   "cell_type": "markdown",
   "metadata": {},
   "source": [
    "## Running a Simulation\n",
    "\n",
    "Now, let's create a simulation engine and run a simulation from 2025 to 2050."
   ]
  },
  {
   "cell_type": "code",
   "execution_count": null,
   "metadata": {},
   "source": [
    "# Define simulation timeframe\n",
    "start_year = 2025\n",
    "end_year = 2050\n",
    "\n",
    "# Create and configure the simulation engine\n",
    "engine = SimulationEngine(start_year=start_year, end_year=end_year)\n",
    "engine.configure(config)\n",
    "\n",
    "# Run the simulation\n",
    "print(f\"Running simulation from {start_year} to {end_year}...\")\n",
    "engine.run()\n",
    "print(\"Simulation completed!\")"
   ]
  },
  {
   "cell_type": "markdown",
   "metadata": {},
   "source": [
    "## Analyzing Results\n",
    "\n",
    "Let's extract the results from different modules and analyze them."
   ]
  },
  {
   "cell_type": "code",
   "execution_count": null,
   "metadata": {},
   "source": [
    "# Get all results\n",
    "results = engine.get_all_results()\n",
    "\n",
    "# Display the available result modules\n",
    "print(\"Available result modules:\")\n",
    "for module_name in results.keys():\n",
    "    print(f\"- {module_name}\")"
   ]
  },
  {
   "cell_type": "code",
   "execution_count": null,
   "metadata": {},
   "source": [
    "# Examine renewable energy results\n",
    "renewable_results = results.get('renewable')\n",
    "if renewable_results is not None:\n",
    "    print(\"Renewable Energy Results:\")\n",
    "    display(renewable_results.head())\n",
    "    \n",
    "    # Show final year results\n",
    "    final_year = renewable_results.index.max()\n",
    "    print(f\"\\nFinal Year ({final_year}) Results:\")\n",
    "    display(renewable_results.loc[final_year:final_year])"
   ]
  },
  {
   "cell_type": "markdown",
   "metadata": {},
   "source": [
    "## Visualizing Results\n",
    "\n",
    "Now, let's create some visualizations of the simulation results."
   ]
  },
  {
   "cell_type": "code",
   "execution_count": null,
   "metadata": {},
   "source": [
    "# Plot renewable energy capacity over time\n",
    "if 'renewable' in results and results['renewable'] is not None:\n",
    "    renewable_df = results['renewable']\n",
    "    renewable_df = renewable_df.reset_index()  # Convert index to column for plotting\n",
    "    \n",
    "    fig, ax = plt.subplots(figsize=(12, 6))\n",
    "    \n",
    "    ax.plot(renewable_df['year'], renewable_df['solar_capacity'], marker='o', linewidth=2, label='Solar')\n",
    "    ax.plot(renewable_df['year'], renewable_df['wind_capacity'], marker='s', linewidth=2, label='Wind')\n",
    "    ax.plot(renewable_df['year'], renewable_df['total_capacity'], marker='^', linewidth=3, label='Total')\n",
    "    \n",
    "    ax.set_title('Renewable Energy Capacity Expansion (2025-2050)', fontsize=16)\n",
    "    ax.set_xlabel('Year', fontsize=14)\n",
    "    ax.set_ylabel('Capacity (GW)', fontsize=14)\n",
    "    ax.grid(True)\n",
    "    ax.legend(fontsize=12)\n",
    "    \n",
    "    plt.tight_layout()\n",
    "    plt.show()"
   ]
  },
  {
   "cell_type": "code",
   "execution_count": null,
   "metadata": {},
   "source": [
    "# Plot grid capacity and curtailment\n",
    "if 'grid' in results and results['grid'] is not None:\n",
    "    grid_df = results['grid']\n",
    "    grid_df = grid_df.reset_index()  # Convert index to column for plotting\n",
    "    \n",
    "    fig, (ax1, ax2) = plt.subplots(2, 1, figsize=(12, 10), sharex=True)\n",
    "    \n",
    "    # Grid capacity\n",
    "    ax1.plot(grid_df['year'], grid_df['grid_capacity'], marker='o', linewidth=2, color='blue')\n",
    "    ax1.set_title('Grid Capacity Expansion (2025-2050)', fontsize=16)\n",
    "    ax1.set_ylabel('Grid Capacity (GW)', fontsize=14)\n",
    "    ax1.grid(True)\n",
    "    \n",
    "    # Curtailment rate\n",
    "    ax2.plot(grid_df['year'], grid_df['curtailment_rate'] * 100, marker='s', linewidth=2, color='red')  # Convert to percentage\n",
    "    ax2.set_title('Renewable Energy Curtailment Rate', fontsize=16)\n",
    "    ax2.set_xlabel('Year', fontsize=14)\n",
    "    ax2.set_ylabel('Curtailment Rate (%)', fontsize=14)\n",
    "    ax2.grid(True)\n",
    "    \n",
    "    plt.tight_layout()\n",
    "    plt.show()"
   ]
  },
  {
   "cell_type": "markdown",
   "metadata": {},
   "source": [
    "## Carbon Emissions Analysis\n",
    "\n",
    "Let's analyze the carbon emissions reduction achieved through the renewable energy transition."
   ]
  },
  {
   "cell_type": "code",
   "execution_count": null,
   "metadata": {},
   "source": [
    "# Plot carbon emissions reduction\n",
    "if 'carbon' in results and results['carbon'] is not None:\n",
    "    carbon_df = results['carbon']\n",
    "    carbon_df = carbon_df.reset_index()  # Convert index to column for plotting\n",
    "    \n",
    "    fig, ax = plt.subplots(figsize=(12, 6))\n",
    "    \n",
    "    # Plot emissions\n",
    "    ax.plot(carbon_df['year'], carbon_df['emissions'], marker='o', linewidth=2, label='Actual Emissions')\n",
    "    ax.plot(carbon_df['year'], carbon_df['baseline_emissions'], linestyle='--', linewidth=2, label='Baseline Emissions')\n",
    "    \n",
    "    # Fill between for emission reduction\n",
    "    ax.fill_between(carbon_df['year'], carbon_df['baseline_emissions'], carbon_df['emissions'], alpha=0.2, color='green', label='Emissions Avoided')\n",
    "    \n",
    "    ax.set_title('Carbon Emissions Reduction (2025-2050)', fontsize=16)\n",
    "    ax.set_xlabel('Year', fontsize=14)\n",
    "    ax.set_ylabel('Emissions (Million Tons CO2)', fontsize=14)\n",
    "    ax.grid(True)\n",
    "    ax.legend(fontsize=12)\n",
    "    \n",
    "    plt.tight_layout()\n",
    "    plt.show()\n",
    "    \n",
    "    # Calculate total emissions avoided\n",
    "    total_avoided = (carbon_df['baseline_emissions'] - carbon_df['emissions']).sum()\n",
    "    print(f\"Total emissions avoided (2025-2050): {total_avoided:.2f} Million Tons CO2\")"
   ]
  },
  {
   "cell_type": "markdown",
   "metadata": {},
   "source": [
    "## Provincial Analysis\n",
    "\n",
    "Let's examine how renewable energy is distributed across provinces."
   ]
  },
  {
   "cell_type": "code",
   "execution_count": null,
   "metadata": {},
   "source": [
    "# Plot provincial distribution of renewables for the final year\n",
    "if 'provincial' in results and results['provincial'] is not None:\n",
    "    provincial_df = results['provincial']\n",
    "    \n",
    "    # Get the last year's data\n",
    "    final_year = provincial_df.index.max()\n",
    "    final_year_data = provincial_df.loc[final_year]\n",
    "    \n",
    "    # Extract provinces and their solar and wind capacities\n",
    "    provinces = [col.split('_')[0] for col in final_year_data.index if col.endswith('_solar')]\n",
    "    solar_capacity = [final_year_data[f\"{province}_solar\"] for province in provinces]\n",
    "    wind_capacity = [final_year_data[f\"{province}_wind\"] for province in provinces]\n",
    "    \n",
    "    # Create a bar chart\n",
    "    fig, ax = plt.subplots(figsize=(14, 8))\n",
    "    \n",
    "    x = np.arange(len(provinces))\n",
    "    width = 0.35\n",
    "    \n",
    "    ax.bar(x - width/2, solar_capacity, width, label='Solar Capacity (GW)', color='orange')\n",
    "    ax.bar(x + width/2, wind_capacity, width, label='Wind Capacity (GW)', color='skyblue')\n",
    "    \n",
    "    ax.set_title(f'Provincial Renewable Energy Capacity ({final_year})', fontsize=16)\n",
    "    ax.set_xlabel('Province', fontsize=14)\n",
    "    ax.set_ylabel('Capacity (GW)', fontsize=14)\n",
    "    ax.set_xticks(x)\n",
    "    ax.set_xticklabels(provinces, rotation=45, ha='right')\n",
    "    ax.legend(fontsize=12)\n",
    "    ax.grid(axis='y')\n",
    "    \n",
    "    plt.tight_layout()\n",
    "    plt.show()"
   ]
  },
  {
   "cell_type": "markdown",
   "metadata": {},
   "source": [
    "## Financial Analysis\n",
    "\n",
    "Finally, let's analyze the financial aspects of the renewable energy transition."
   ]
  },
  {
   "cell_type": "code",
   "execution_count": null,
   "metadata": {},
   "source": [
    "# Plot financial metrics\n",
    "if 'finance' in results and results['finance'] is not None:\n",
    "    finance_df = results['finance']\n",
    "    finance_df = finance_df.reset_index()  # Convert index to column for plotting\n",
    "    \n",
    "    fig, ax = plt.subplots(figsize=(12, 6))\n",
    "    \n",
    "    ax.plot(finance_df['year'], finance_df['green_bonds'], marker='o', linewidth=2, label='Green Bonds')\n",
    "    ax.plot(finance_df['year'], finance_df['green_credit'], marker='s', linewidth=2, label='Green Credit')\n",
    "    ax.plot(finance_df['year'], finance_df['total_investment'], marker='^', linewidth=3, label='Total Investment')\n",
    "    \n",
    "    ax.set_title('Renewable Energy Financial Investment (2025-2050)', fontsize=16)\n",
    "    ax.set_xlabel('Year', fontsize=14)\n",
    "    ax.set_ylabel('Investment (Billion USD)', fontsize=14)\n",
    "    ax.grid(True)\n",
    "    ax.legend(fontsize=12)\n",
    "    \n",
    "    plt.tight_layout()\n",
    "    plt.show()\n",
    "    \n",
    "    # Calculate total investment\n",
    "    total_investment = finance_df['total_investment'].sum()\n",
    "    print(f\"Total investment (2025-2050): {total_investment:.2f} Billion USD\")"
   ]
  },
  {
   "cell_type": "markdown",
   "metadata": {},
   "source": [
    "## Conclusion\n",
    "\n",
    "This notebook demonstrated how to run a basic simulation using the DRAGONWIND platform and analyze the results. You can modify the configuration parameters to explore different scenarios and analyze their impacts on renewable energy expansion, grid integration, carbon emissions, and financial requirements."
   ]
  }
 ],
 "metadata": {
  "kernelspec": {
   "display_name": "Python 3",
   "language": "python",
   "name": "python3"
  },
  "language_info": {
   "codemirror_mode": {
    "name": "ipython",
    "version": 3
   },
   "file_extension": ".py",
   "mimetype": "text/x-python",
   "name": "python",
   "nbconvert_exporter": "python",
   "pygments_lexer": "ipython3",
   "version": "3.8.10"
  }
 },
 "nbformat": 4,
 "nbformat_minor": 4
}
