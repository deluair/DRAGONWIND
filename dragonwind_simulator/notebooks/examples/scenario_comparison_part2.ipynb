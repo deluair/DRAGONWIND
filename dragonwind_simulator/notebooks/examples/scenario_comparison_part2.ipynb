{
 "cells": [
  {
   "cell_type": "markdown",
   "metadata": {},
   "source": [
    "# DRAGONWIND Scenario Comparison - Part 2: Running Simulations\n",
    "\n",
    "This notebook continues from the scenario_comparison_part1 notebook, where we set up different scenarios.\n",
    "Now we'll run the simulations for each scenario and analyze the results."
   ]
  },
  {
   "cell_type": "code",
   "execution_count": null,
   "metadata": {},
   "source": [
    "import sys\n",
    "import os\n",
    "from pathlib import Path\n",
    "import pandas as pd\n",
    "import numpy as np\n",
    "import matplotlib.pyplot as plt\n",
    "import seaborn as sns\n",
    "import warnings\n",
    "warnings.filterwarnings('ignore')\n",
    "\n",
    "# Add the project root to the Python path\n",
    "project_root = Path.cwd().parent.parent\n",
    "if str(project_root) not in sys.path:\n",
    "    sys.path.insert(0, str(project_root))\n",
    "\n",
    "# Import DRAGONWIND modules\n",
    "from src.config.loader import load_config\n",
    "from src.core.simulation_engine import SimulationEngine\n",
    "from src.scenarios.scenario_manager import Scenario, ScenarioManager\n",
    "from src.analytics.plotter import create_figure\n",
    "from src.utils.progress import ProgressTracker\n",
    "\n",
    "# Set plot style\n",
    "plt.style.use('seaborn-v0_8-whitegrid')\n",
    "plt.rcParams['figure.figsize'] = (12, 8)\n",
    "plt.rcParams['font.size'] = 12\n",
    "\n",
    "# Define simulation timeframe\n",
    "start_year = 2025\n",
    "end_year = 2050\n",
    "\n",
    "# Create a scenario manager and load the scenarios we created in part 1\n",
    "scenario_manager = ScenarioManager()\n",
    "scenarios = scenario_manager.list_scenarios()\n",
    "print(f\"Found scenarios: {scenarios}\")\n",
    "\n",
    "# If no scenarios were found, recreate them\n",
    "if not scenarios:\n",
    "    print(\"No scenarios found. Please run scenario_comparison_part1 notebook first.\")\n",
    "    # Code to recreate scenarios would go here\n",
    "    # For brevity, we'll skip this"
   ]
  },
  {
   "cell_type": "markdown",
   "metadata": {},
   "source": [
    "## Run Simulations for Each Scenario\n",
    "\n",
    "Now, let's run simulations for each scenario including a baseline scenario."
   ]
  },
  {
   "cell_type": "code",
   "execution_count": null,
   "metadata": {},
   "source": [
    "# Function to run a simulation for a given scenario\n",
    "def run_scenario_simulation(scenario_name=None, start_year=2025, end_year=2050):\n",
    "    \"\"\"Run a simulation for the specified scenario.\"\"\"\n",
    "    # Load base configuration\n",
    "    config = load_config()\n",
    "    \n",
    "    # Apply scenario overrides if specified\n",
    "    if scenario_name is not None and scenario_name != \"baseline\":\n",
    "        scenario = scenario_manager.load_scenario(scenario_name)\n",
    "        if scenario:\n",
    "            print(f\"Applying scenario: {scenario_name} - {scenario.description}\")\n",
    "            config = scenario.apply_to_config(config)\n",
    "        else:\n",
    "            print(f\"Warning: Scenario '{scenario_name}' not found. Using baseline configuration.\")\n",
    "    \n",
    "    # Create and configure simulation engine\n",
    "    engine = SimulationEngine(start_year=start_year, end_year=end_year)\n",
    "    engine.configure(config)\n",
    "    \n",
    "    # Run the simulation\n",
    "    print(f\"Running simulation from {start_year} to {end_year}...\")\n",
    "    with ProgressTracker(total=end_year-start_year+1, description=f\"Simulating {scenario_name or 'baseline'}\") as progress:\n",
    "        engine.run(progress=progress)\n",
    "    \n",
    "    print(\"Simulation completed!\")\n",
    "    \n",
    "    # Get and return the results\n",
    "    return engine.get_all_results()"
   ]
  },
  {
   "cell_type": "code",
   "execution_count": null,
   "metadata": {},
   "source": [
    "# Define the scenarios we want to run\n",
    "scenario_names = [\"baseline\", \"accelerated_growth\", \"grid_bottleneck\", \"manufacturing_constraint\", \"storage_integration\"]\n",
    "\n",
    "# Run simulations and store results\n",
    "scenario_results = {}\n",
    "\n",
    "for scenario_name in scenario_names:\n",
    "    print(f\"\\n{'-'*80}\\nRunning {scenario_name} scenario\\n{'-'*80}\")\n",
    "    scenario_results[scenario_name] = run_scenario_simulation(\n",
    "        scenario_name if scenario_name != \"baseline\" else None,\n",
    "        start_year,\n",
    "        end_year\n",
    "    )"
   ]
  },
  {
   "cell_type": "markdown",
   "metadata": {},
   "source": [
    "## Compare Renewable Capacity Expansion Across Scenarios\n",
    "\n",
    "Let's compare how renewable energy capacity expands under different scenarios."
   ]
  },
  {
   "cell_type": "code",
   "execution_count": null,
   "metadata": {},
   "source": [
    "# Extract and plot total renewable capacity for each scenario\n",
    "plt.figure(figsize=(14, 8))\n",
    "\n",
    "for scenario_name, results in scenario_results.items():\n",
    "    if 'renewable' in results and results['renewable'] is not None:\n",
    "        renewable_df = results['renewable'].reset_index()\n",
    "        plt.plot(\n",
    "            renewable_df['year'],\n",
    "            renewable_df['total_capacity'], \n",
    "            linewidth=2.5 if scenario_name == \"baseline\" else 2.0,\n",
    "            linestyle='-' if scenario_name == \"baseline\" else '--',\n",
    "            marker='o' if scenario_name == \"baseline\" else None,\n",
    "            markersize=5,\n",
    "            label=f\"{scenario_name.replace('_', ' ').title()}\"\n",
    "        )\n",
    "\n",
    "plt.title('Total Renewable Energy Capacity by Scenario (2025-2050)', fontsize=16)\n",
    "plt.xlabel('Year', fontsize=14)\n",
    "plt.ylabel('Total Capacity (GW)', fontsize=14)\n",
    "plt.grid(True)\n",
    "plt.legend(fontsize=12)\n",
    "plt.tight_layout()\n",
    "plt.show()\n",
    "\n",
    "# Print the final year capacity for each scenario\n",
    "print(\"Final Year (2050) Total Renewable Capacity by Scenario:\")\n",
    "for scenario_name, results in scenario_results.items():\n",
    "    if 'renewable' in results and results['renewable'] is not None:\n",
    "        final_capacity = results['renewable'].iloc[-1]['total_capacity']\n",
    "        print(f\"{scenario_name.ljust(25)}: {final_capacity:,.2f} GW\")"
   ]
  },
  {
   "cell_type": "markdown",
   "metadata": {},
   "source": [
    "## Compare Grid Integration Challenges\n",
    "\n",
    "Now, let's examine how grid integration issues vary across scenarios."
   ]
  },
  {
   "cell_type": "code",
   "execution_count": null,
   "metadata": {},
   "source": [
    "# Extract and plot curtailment rates for each scenario\n",
    "plt.figure(figsize=(14, 8))\n",
    "\n",
    "for scenario_name, results in scenario_results.items():\n",
    "    if 'grid' in results and results['grid'] is not None:\n",
    "        grid_df = results['grid'].reset_index()\n",
    "        plt.plot(\n",
    "            grid_df['year'],\n",
    "            grid_df['curtailment_rate'] * 100,  # Convert to percentage \n",
    "            linewidth=2.5 if scenario_name == \"baseline\" else 2.0,\n",
    "            linestyle='-' if scenario_name == \"baseline\" else '--',\n",
    "            marker='o' if scenario_name == \"baseline\" else None,\n",
    "            markersize=5,\n",
    "            label=f\"{scenario_name.replace('_', ' ').title()}\"\n",
    "        )\n",
    "\n",
    "plt.title('Renewable Energy Curtailment Rate by Scenario (2025-2050)', fontsize=16)\n",
    "plt.xlabel('Year', fontsize=14)\n",
    "plt.ylabel('Curtailment Rate (%)', fontsize=14)\n",
    "plt.grid(True)\n",
    "plt.legend(fontsize=12)\n",
    "plt.tight_layout()\n",
    "plt.show()\n",
    "\n",
    "# Print the max curtailment rate for each scenario\n",
    "print(\"Maximum Curtailment Rate by Scenario:\")\n",
    "for scenario_name, results in scenario_results.items():\n",
    "    if 'grid' in results and results['grid'] is not None:\n",
    "        max_curtailment = results['grid']['curtailment_rate'].max() * 100\n",
    "        max_year = results['grid']['curtailment_rate'].idxmax()\n",
    "        print(f\"{scenario_name.ljust(25)}: {max_curtailment:.2f}% in year {max_year}\")"
   ]
  }
 ],
 "metadata": {
  "kernelspec": {
   "display_name": "Python 3",
   "language": "python",
   "name": "python3"
  },
  "language_info": {
   "codemirror_mode": {
    "name": "ipython",
    "version": 3
   },
   "file_extension": ".py",
   "mimetype": "text/x-python",
   "name": "python",
   "nbconvert_exporter": "python",
   "pygments_lexer": "ipython3",
   "version": "3.8.10"
  }
 },
 "nbformat": 4,
 "nbformat_minor": 4
}
